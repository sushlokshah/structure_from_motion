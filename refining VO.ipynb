{
 "cells": [
  {
   "cell_type": "code",
   "execution_count": 23,
   "metadata": {},
   "outputs": [
    {
     "name": "stdout",
     "output_type": "stream",
     "text": [
      "nbAgg\n"
     ]
    }
   ],
   "source": [
    "import matplotlib\n",
    "matplotlib.use('nbagg')\n",
    "print(matplotlib.get_backend())\n",
    "import os\n",
    "import matplotlib.pyplot as plt\n",
    "from os import listdir\n",
    "import random\n",
    "import numpy as np\n",
    "import cv2 as cv\n",
    "import pandas as pd\n",
    "import open3d as o3d"
   ]
  },
  {
   "cell_type": "code",
   "execution_count": 24,
   "metadata": {},
   "outputs": [],
   "source": [
    "dataset_location = 'C:\\\\Users\\\\sushl\\\\Desktop\\\\papers\\\\datasets\\\\GustavIIAdolf'\n",
    "L = os.listdir(dataset_location)\n",
    "L.sort()\n",
    "\n",
    "k = np.array([[2393.952166119461, -3.410605131648481e-13, 932.3821770809047], [0, 2398.118540286656, 628.2649953288065], [0, 0, 1]])\n"
   ]
  },
  {
   "cell_type": "code",
   "execution_count": 25,
   "metadata": {},
   "outputs": [],
   "source": [
    "def feature_detection(img,detector):\n",
    "    if detector == \"Fast\":\n",
    "        fast = cv.FastFeatureDetector_create()\n",
    "        fast.setThreshold(10)\n",
    "        print(fast.getThreshold())\n",
    "        kp = fast.detect(img,None)\n",
    "        orb = cv.ORB_create()\n",
    "        kp, des = orb.compute(img, kp)\n",
    "        \n",
    "    if detector == \"Orb\":\n",
    "        # Initiate ORB detector\n",
    "        orb = cv.ORB_create()\n",
    "        # find the keypoints with ORB\n",
    "        kp = orb.detect(img,None)\n",
    "        # compute the descriptors with ORB\n",
    "        kp, des = orb.compute(img, kp)\n",
    "    if detector == \"Sift\":\n",
    "        sift = cv.SIFT_create()\n",
    "        kp, des = sift.detectAndCompute(img,None)\n",
    "    # draw only keypoints location,not size and orientation\n",
    "    #img2 = cv.drawKeypoints(img, kp, None, color=(0,255,0), flags=0)\n",
    "    #plt.imshow(img2), plt.show()\n",
    "    return kp,des"
   ]
  },
  {
   "cell_type": "code",
   "execution_count": 26,
   "metadata": {},
   "outputs": [],
   "source": [
    "def Triangulation(P1, P2, pts1, pts2):\n",
    "    point_cloud = cv.triangulatePoints(P1, P2, pts1, pts2)\n",
    "    point_cloud = point_cloud / point_cloud[3,:]\n",
    "    return point_cloud.T"
   ]
  },
  {
   "cell_type": "code",
   "execution_count": 27,
   "metadata": {},
   "outputs": [],
   "source": [
    "def projection_matrix(k,R,t):\n",
    "    Rt = np.zeros((3,4))\n",
    "    Rt[:3,:3] = R\n",
    "    Rt[:,3] = t.reshape((3))\n",
    "    P = k@Rt\n",
    "    return P"
   ]
  },
  {
   "cell_type": "code",
   "execution_count": 28,
   "metadata": {},
   "outputs": [],
   "source": [
    "def keypoint_matches(kp1,des1,kp2,des2):\n",
    "    bf = cv.BFMatcher()\n",
    "    pts1 = cv.KeyPoint_convert(kp1)\n",
    "    pts2 = cv.KeyPoint_convert(kp2)\n",
    "    matches = bf.knnMatch(des1,des2,k=2)\n",
    "    good = []\n",
    "    for m,n in matches:\n",
    "        if m.distance < 0.75*n.distance:\n",
    "            good.append(m)\n",
    "\n",
    "    src_p = np.float32([ kp1[m.queryIdx].pt for m in good ]).reshape(-1,1,2)\n",
    "    dst_p=np.float32([kp2[m.trainIdx].pt for m in good]).reshape(-1,1,2)\n",
    "    common_des1 = np.array([ des1[m.queryIdx] for m in good ])\n",
    "    common_des2 = np.array([ des2[m.trainIdx] for m in good ])\n",
    "    common_pts1 = np.float32(src_p)\n",
    "    common_pts2 = np.float32(dst_p)\n",
    "    return pts1,pts2,common_pts1,common_pts2,common_des1,common_des2"
   ]
  },
  {
   "cell_type": "code",
   "execution_count": 29,
   "metadata": {},
   "outputs": [],
   "source": [
    "def optical_flow_matches(imgb,imga,kpa):\n",
    "    # Parameters for lucas kanade optical flow\n",
    "    lk_params = dict( winSize  = (15,15),\n",
    "                      maxLevel = 5,\n",
    "                      criteria = (cv.TERM_CRITERIA_EPS | cv.TERM_CRITERIA_COUNT, 10, 0.03))\n",
    "    kpb, st, err = cv.calcOpticalFlowPyrLK(imga, imgb, kpa, None, **lk_params)\n",
    "    ptsb = kpb[st == 1]\n",
    "    ptsa = kpa[st == 1]\n",
    "    return ptsa.reshape(-1,1,2),ptsb.reshape(-1,1,2),st"
   ]
  },
  {
   "cell_type": "code",
   "execution_count": 30,
   "metadata": {},
   "outputs": [],
   "source": [
    "def pnp(p3d,pts,k):\n",
    "    retval, rvec, t, inliers = cv.solvePnPRansac(p3d,pts, k, (0,0,0,0),useExtrinsicGuess = True ,iterationsCount = 100,reprojectionError = 5.0,confidence = 0.750,flags = cv.SOLVEPNP_ITERATIVE)\n",
    "    R,Jec = cv.Rodrigues(rvec)\n",
    "    return R,t"
   ]
  },
  {
   "cell_type": "code",
   "execution_count": 31,
   "metadata": {},
   "outputs": [],
   "source": [
    "def reprojection_error(p3d,P,pts):\n",
    "    proj_pt = P@p3d.T\n",
    "    proj_pt = proj_pt.T\n",
    "    proj_pt= proj_pt / proj_pt[:,2].reshape((-1,1))\n",
    "    proj_pt = proj_pt[:,:2]\n",
    "    err = proj_pt - pts.reshape((-1,2))\n",
    "    err = np.linalg.norm(err)\n",
    "    err = err/len(pts)\n",
    "    return err"
   ]
  },
  {
   "cell_type": "code",
   "execution_count": null,
   "metadata": {},
   "outputs": [],
   "source": []
  },
  {
   "cell_type": "code",
   "execution_count": 21,
   "metadata": {
    "scrolled": false
   },
   "outputs": [
    {
     "name": "stdout",
     "output_type": "stream",
     "text": [
      "10\n",
      "10\n",
      "0 0.9523013012239769\n",
      "1 1.021118326350893\n",
      "(4736, 4) (4736, 1, 2) (4736, 1, 2)\n",
      "1 1.021118326350893 1.026153118294907\n"
     ]
    }
   ],
   "source": [
    "#list having all data\n",
    "data = []\n",
    "i = 0\n",
    "#for first two frame using essiential matrix to find pointcloud and initial rotation and translation.\n",
    "img1 = cv.imread(dataset_location +'/'+ L[0],cv.IMREAD_GRAYSCALE)\n",
    "kp1,des1 = feature_detection(img1,\"Fast\")\n",
    "img2 = cv.imread(dataset_location +'/'+ L[1],cv.IMREAD_GRAYSCALE)\n",
    "kp2,des2 = feature_detection(img2,\"Fast\") \n",
    "\n",
    "pts1,pts2,common_pts1,common_pts2,common_des1,common_des2 = keypoint_matches(kp1,des1,kp2,des2)\n",
    "\n",
    "F,mask = cv.findFundamentalMat(common_pts1, common_pts2,cv.FM_RANSAC ,0.4,0.9,mask=None)\n",
    "E = k.T@F@k\n",
    "\n",
    "retval, R, t, mask = cv.recoverPose(E, common_pts1, common_pts2, k)\n",
    "\n",
    "P1 = projection_matrix(k,np.eye(3).astype(np.float32),np.zeros((3,1)))\n",
    "P2 = projection_matrix(k,R,t)\n",
    "\n",
    "p3d = Triangulation(P1, P2, common_pts1, common_pts2)\n",
    "print(i,reprojection_error(p3d,P1,common_pts1))\n",
    "print(i+1,reprojection_error(p3d,P2,common_pts2))\n",
    "print(p3d.shape,common_pts1.shape,common_pts2.shape)\n",
    "\n",
    "data.append([p3d,P1,pts1,common_pts1,common_des1,np.eye(3).astype(np.float32),np.zeros((3,1)),reprojection_error(p3d,P1,common_pts1)])\n",
    "data.append([p3d,P2,pts2,common_pts2,common_des2,R,t,reprojection_error(p3d,P2,common_pts2)])\n",
    "\n",
    "i = i +2\n",
    "while(i<3):\n",
    "    img3 = cv.imread(dataset_location +'/'+ L[i],cv.IMREAD_GRAYSCALE)\n",
    "    kp3,des3 = feature_detection(img3,\"Fast\") \n",
    "    pts1,pts2,common_pts1,common_pts2,common_des1,common_des2 = keypoint_matches(kp1,des1,kp2,des2)\n",
    "    F,mask = cv.findFundamentalMat(common_pts1, common_pts2,cv.FM_RANSAC ,0.4,0.9,mask=None)\n",
    "    E = k.T@F@k\n",
    "    retval, R12, t12, mask = cv.recoverPose(E, common_pts1, common_pts2, k)\n",
    "    R = R12@rotations[-1]\n",
    "    t = translations[-1] + rotations[-1]@t12\n",
    "    P1 = projections[-1]\n",
    "    \n",
    "    P2 = projection_matrix(k,R,t)\n",
    "    #print(P1,P2)\n",
    "    #print(R,t)\n",
    "    p3d = Triangulation(P1, P2, common_pts1, common_pts2)\n",
    "    #print(common_pts1.shape)\n",
    "    #print(p3d.shape)\n",
    "    #print(reprojection_error(p3d.T,P2,common_pts2))\n",
    "    #print(reprojection_error(p3d.T,P1,common_pts1))\n",
    "    #R,t = refine_RT(p3d[:,:3],common_pts2,k)\n",
    "    #print(R,t)\n",
    "    #P2 = projection_matrix(k,R,t)\n",
    "    print(reprojection_error(p3d.T,P2,common_pts2))\n",
    "    error.append(reprojection_error(p3d.T,P2,common_pts2))\n",
    "    if error[-1]<5:\n",
    "        pointclouds.append(Triangulation(P1, P2, common_pts1, common_pts2))    \n",
    "    rotations.append(R)\n",
    "    translations.append(t)\n",
    "    projections.append(P2)\n",
    "    img1 = img2\n",
    "    kp1,des1 = kp2,des2\n",
    "    \n",
    "    i = i +1"
   ]
  },
  {
   "cell_type": "code",
   "execution_count": null,
   "metadata": {
    "scrolled": false
   },
   "outputs": [],
   "source": [
    "import matplotlib\n",
    "#matplotlib.use('TkAgg')\n",
    "import matplotlib.pyplot as plt\n",
    "from mpl_toolkits.mplot3d import Axes3D\n",
    "plt.subplot(1, 1, 1, projection='3d').plot(p3d[:, 0], p3d[:, 1], p3d[:, 2])\n",
    "plt.show()"
   ]
  },
  {
   "cell_type": "code",
   "execution_count": null,
   "metadata": {},
   "outputs": [],
   "source": [
    "def write_pointcloud(filename,xyz_points,rgb_points=None):\n",
    "\n",
    "    \"\"\" creates a .pkl file of the point clouds generated\n",
    "    \"\"\"\n",
    "\n",
    "    assert xyz_points.shape[1] == 3,'Input XYZ points should be Nx3 float array'\n",
    "    if rgb_points is None:\n",
    "        rgb_points = np.ones(xyz_points.shape).astype(np.uint8)*255\n",
    "    assert xyz_points.shape == rgb_points.shape,'Input RGB colors should be Nx3 float array and have same size as input XYZ points'\n",
    "    # cleaning point cloud\n",
    "    mean = np.mean(xyz_points[:, :3], axis=0)\n",
    "    temp = xyz_points[:, :3] - mean\n",
    "    dist = np.sqrt(temp[:, 0] ** 2 + temp[:, 1] ** 2 + temp[:, 2] ** 2)\n",
    "    #print(dist.shape, np.mean(dist))\n",
    "    indx = np.where(dist < np.mean(dist)+ 200)\n",
    "    xyz_points = xyz_points[indx]\n",
    "    rgb_points = np.ones(xyz_points.shape).astype(np.uint8)*255\n",
    "    # Write header of .ply file\n",
    "    fid = open(filename,'wb')\n",
    "    fid.write(bytes('ply\\n', 'utf-8'))\n",
    "    fid.write(bytes('format binary_little_endian 1.0\\n', 'utf-8'))\n",
    "    fid.write(bytes('element vertex %d\\n'%xyz_points.shape[0], 'utf-8'))\n",
    "    fid.write(bytes('property float x\\n', 'utf-8'))\n",
    "    fid.write(bytes('property float y\\n', 'utf-8'))\n",
    "    fid.write(bytes('property float z\\n', 'utf-8'))\n",
    "    fid.write(bytes('property uchar red\\n', 'utf-8'))\n",
    "    fid.write(bytes('property uchar green\\n', 'utf-8'))\n",
    "    fid.write(bytes('property uchar blue\\n', 'utf-8'))\n",
    "    fid.write(bytes('end_header\\n', 'utf-8'))\n",
    "\n",
    "    # Write 3D points to .ply file\n",
    "    for i in range(xyz_points.shape[0]):\n",
    "        fid.write(bytearray(struct.pack(\"fffccc\",xyz_points[i,0],xyz_points[i,1],xyz_points[i,2],\n",
    "                                        rgb_points[i,0].tobytes(),rgb_points[i,1].tobytes(),\n",
    "                                        rgb_points[i,2].tobytes())))\n",
    "    fid.close()"
   ]
  },
  {
   "cell_type": "code",
   "execution_count": null,
   "metadata": {},
   "outputs": [],
   "source": [
    "import struct\n",
    "write_pointcloud(\"pt.ply\",p3d[:,:3])"
   ]
  },
  {
   "cell_type": "code",
   "execution_count": null,
   "metadata": {},
   "outputs": [],
   "source": []
  }
 ],
 "metadata": {
  "kernelspec": {
   "display_name": "Python 3",
   "language": "python",
   "name": "python3"
  },
  "language_info": {
   "codemirror_mode": {
    "name": "ipython",
    "version": 3
   },
   "file_extension": ".py",
   "mimetype": "text/x-python",
   "name": "python",
   "nbconvert_exporter": "python",
   "pygments_lexer": "ipython3",
   "version": "3.8.10"
  }
 },
 "nbformat": 4,
 "nbformat_minor": 4
}
